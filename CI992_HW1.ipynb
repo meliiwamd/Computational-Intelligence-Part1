{
 "cells": [
  {
   "cell_type": "markdown",
   "metadata": {
    "id": "heBxPYfc0U22"
   },
   "source": [
    "# Your info\n",
    "\n",
    "Full name:\n",
    "\n",
    "Student ID:"
   ]
  },
  {
   "cell_type": "markdown",
   "metadata": {
    "id": "UBD007b3-ntJ"
   },
   "source": [
    "# Q1. Perceptron"
   ]
  },
  {
   "cell_type": "code",
   "execution_count": null,
   "metadata": {
    "id": "rld-5wsb1gZS"
   },
   "outputs": [],
   "source": [
    "# Q1_graded\n",
    "# Do not change the above line.\n",
    "\n",
    "# This cell is for your imports.\n",
    "\n",
    "import numpy as np\n",
    "import matplotlib.pyplot as plt"
   ]
  },
  {
   "cell_type": "code",
   "execution_count": null,
   "metadata": {
    "id": "PKs23FTj_SI8"
   },
   "outputs": [],
   "source": [
    "# Q1_graded\n",
    "# Do not change the above line.\n",
    "\n",
    "# This cell is for your codes."
   ]
  },
  {
   "cell_type": "code",
   "execution_count": null,
   "metadata": {
    "id": "g5ISMYZ7_S2X"
   },
   "outputs": [],
   "source": [
    "# Q1_graded\n",
    "# Do not change the above line.\n",
    "\n",
    "# This cell is for your codes."
   ]
  },
  {
   "cell_type": "markdown",
   "metadata": {
    "id": "VAAR47H8-5ML"
   },
   "source": [
    "# Q2. Binary Classification"
   ]
  },
  {
   "cell_type": "code",
   "execution_count": null,
   "metadata": {
    "id": "LV7Xa2Sx-6cV"
   },
   "outputs": [],
   "source": [
    "# Q2_graded\n",
    "# Do not change the above line.\n",
    "\n",
    "# This cell is for your imports.\n",
    "\n",
    "import numpy as np\n",
    "import matplotlib.pyplot as plt"
   ]
  },
  {
   "cell_type": "code",
   "execution_count": null,
   "metadata": {
    "id": "bMIDe8oc_TLW"
   },
   "outputs": [],
   "source": [
    "# Q2_graded\n",
    "# Do not change the above line.\n",
    "\n",
    "# This cell is for your codes."
   ]
  },
  {
   "cell_type": "code",
   "execution_count": null,
   "metadata": {
    "id": "M5auUdYc_Tc0"
   },
   "outputs": [],
   "source": [
    "# Q2_graded\n",
    "# Do not change the above line.\n",
    "\n",
    "# This cell is for your codes."
   ]
  },
  {
   "cell_type": "markdown",
   "metadata": {
    "id": "gMWCmByc-7H5"
   },
   "source": [
    "# Q4. MLP"
   ]
  },
  {
   "cell_type": "code",
   "execution_count": null,
   "metadata": {
    "id": "wpWMwI6z--GX"
   },
   "outputs": [],
   "source": [
    "# Q4_graded\n",
    "# Do not change the above line.\n",
    "\n",
    "# This cell is for your imports.\n",
    "\n",
    "from keras.layers import *\n",
    "from keras.optimizers import *\n",
    "from keras.models import Sequential\n",
    "from keras.datasets import mnist\n",
    "import numpy as np\n",
    "import matplotlib.pyplot as plt"
   ]
  },
  {
   "cell_type": "code",
   "execution_count": null,
   "metadata": {
    "id": "kTmDh0Tw_Tuy"
   },
   "outputs": [],
   "source": [
    "# Q4_graded\n",
    "# Do not change the above line.\n",
    "\n",
    "# This cell is for your codes.\n",
    "\n",
    "(x_train, x_test), (y_train, y_test) = mnist.load_data()"
   ]
  },
  {
   "cell_type": "code",
   "execution_count": null,
   "metadata": {
    "id": "frBeD-ka_UAJ"
   },
   "outputs": [],
   "source": [
    "# Q4_graded\n",
    "# Do not change the above line.\n",
    "\n",
    "# This cell is for your codes."
   ]
  },
  {
   "cell_type": "markdown",
   "metadata": {
    "id": "XYu2rMtB_FxI"
   },
   "source": [
    "# Q5. Back-Propagation"
   ]
  },
  {
   "cell_type": "code",
   "execution_count": null,
   "metadata": {
    "id": "zbCqds5p_Gx2"
   },
   "outputs": [],
   "source": [
    "# Q5_graded\n",
    "# Do not change the above line.\n",
    "\n",
    "# This cell is for your imports\n",
    "\n",
    "import numpy as np\n",
    "import matplotlib.pyplot as plt"
   ]
  },
  {
   "cell_type": "code",
   "execution_count": null,
   "metadata": {
    "id": "_DkIgkeD_Ubv"
   },
   "outputs": [],
   "source": [
    "# Q5_graded\n",
    "# Do not change the above line.\n",
    "\n",
    "# This cell is for your codes.s"
   ]
  },
  {
   "cell_type": "code",
   "execution_count": null,
   "metadata": {
    "id": "dVLmzv43_UrQ"
   },
   "outputs": [],
   "source": [
    "# Q5_graded\n",
    "# Do not change the above line.\n",
    "\n",
    "# This cell is for your codes."
   ]
  },
  {
   "cell_type": "markdown",
   "metadata": {
    "id": "iRqYhKw1rgUp"
   },
   "source": [
    "# <font color='red'>Submission</font>\n",
    "\n",
    "1. Sign up in [Gradescope](https://www.gradescope.com) with proper name and student ID and use the following code to join the class: <font color='red'>**D5372R**</font>\n",
    "2. Fill in your full name (seperated by single spaces) and student ID in the beginning of this notebook.\n",
    "3. After you're done with this notebook, you should do the following:\n",
    "  - Clear all outputs of the notebook.\n",
    "  ![clear all outputs](https://i.ibb.co/y6FrttB/Screen-Shot-2021-03-21-at-01-51-42.png)\n",
    "  - Run all of the cells (if you skipped a question just leave the cell unchanged), and make sure all of your outputs are correct.\n",
    "  ![run all](https://i.ibb.co/cgRcBZ0/Screen-Shot-2021-03-21-at-01-54-58.png)\n",
    "  - Save your notebook.\n",
    "  \n",
    "  - If you're using Colab, download your notebook.\n",
    "  ![download ipynb](https://i.ibb.co/2KxYM6K/Screen-Shot-2021-03-21-at-02-03-50.png)\n",
    "  \n",
    "  - Put the notebook file you just downloaded and `convert.py` in the same folder run the following command:\n",
    "  ```bash\n",
    "  python convert.py\n",
    "  ```\n",
    "  This will export your code for each question into a `.py` file.\n",
    "    - **Note**: if you want to add more cells, add this to the **first** line of the cell:\n",
    "  ```python\n",
    "  # Q5_graded\n",
    "  ```\n",
    "  according to the question number.\n",
    "  - There are 2 assignments in Gradescope:\n",
    "\n",
    "    ![assignments](https://i.ibb.co/10GMhGM/Screen-Shot-2021-03-21-at-02-16-25.png)\n",
    "  \n",
    "    You should upload your **codes** and your **notebook** in `HW1` section and your final report for all of the questions as a **single pdf** file in `HW1 - Report`. Autograder will automatically check for:\n",
    "    - `CI992_HW1.ipynb`\n",
    "    - `Q1.py`\n",
    "    - `Q2.py`\n",
    "    - `Q4.py`\n",
    "    - `Q5.py`\n",
    "    - Your name and ID in the beginning of `.ipynb` file.\n",
    "\n",
    "    It is important that you <font color='red'>**don't**</font> change the names of these files before submission.\n",
    "\n",
    "4. If you pass the autograder, you're good to go."
   ]
  },
  {
   "cell_type": "code",
   "execution_count": null,
   "metadata": {},
   "outputs": [],
   "source": []
  }
 ],
 "metadata": {
  "colab": {
   "collapsed_sections": [],
   "name": "CI992_HW1.ipynb",
   "provenance": []
  },
  "kernelspec": {
   "display_name": "Python 3",
   "language": "python",
   "name": "python3"
  },
  "language_info": {
   "codemirror_mode": {
    "name": "ipython",
    "version": 3
   },
   "file_extension": ".py",
   "mimetype": "text/x-python",
   "name": "python",
   "nbconvert_exporter": "python",
   "pygments_lexer": "ipython3",
   "version": "3.8.7"
  }
 },
 "nbformat": 4,
 "nbformat_minor": 1
}
